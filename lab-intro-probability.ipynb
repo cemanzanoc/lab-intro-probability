{
 "cells": [
  {
   "cell_type": "markdown",
   "metadata": {},
   "source": [
    "# Lab | Intro to Probability"
   ]
  },
  {
   "cell_type": "markdown",
   "metadata": {},
   "source": [
    "**Objective**\n",
    "\n",
    "Welcome to this Intro to Probability lab, where we explore decision-making scenarios through the lens of probability and strategic analysis. In the business world, making informed decisions is crucial, especially when faced with uncertainties. This lab focuses on scenarios where probabilistic outcomes play a significant role in shaping strategies and outcomes. Students will engage in exercises that require assessing and choosing optimal paths based on data-driven insights. The goal is to enhance your skills by applying probability concepts to solve real-world problems."
   ]
  },
  {
   "cell_type": "markdown",
   "metadata": {},
   "source": [
    "**Challenge 1**"
   ]
  },
  {
   "cell_type": "markdown",
   "metadata": {},
   "source": [
    "#### Ironhack Airlines \n",
    "\n",
    "Often Airlines sell more tickets than they have seats available, this is called overbooking. Consider the following:\n",
    "- A plane has 450 seats. \n",
    "- Based on historical data we conclude that each individual passenger has a 3% chance of missing it's flight. \n",
    "\n",
    "If the Ironhack Airlines routinely sells 460 tickets, what is the chance that they have a seats for all passenger?"
   ]
  },
  {
   "cell_type": "code",
   "execution_count": 2,
   "metadata": {},
   "outputs": [
    {
     "name": "stdout",
     "output_type": "stream",
     "text": [
      "Chance that all passengers have seats: 0.884\n"
     ]
    }
   ],
   "source": [
    "#Challenge 1\n",
    "from scipy.stats import binom\n",
    "\n",
    "# Given data\n",
    "n = 460  # Number of tickets sold\n",
    "p = 0.97  # Probability that a passenger shows up\n",
    "seats = 450  # Number of seats available\n",
    "\n",
    "# Create binomial distribution\n",
    "binom_dist = binom(n, p)\n",
    "\n",
    "# Calculate the probability (P(X <= 450))\n",
    "probability_binomial = binom_dist.cdf(seats)\n",
    "\n",
    "# Show results\n",
    "print(f\"Chance that all passengers have seats: {probability_binomial:.3f}\")"
   ]
  },
  {
   "cell_type": "markdown",
   "metadata": {},
   "source": [
    "**Challenge 2**"
   ]
  },
  {
   "cell_type": "markdown",
   "metadata": {},
   "source": [
    "#### Ironhack Call Center "
   ]
  },
  {
   "cell_type": "markdown",
   "metadata": {},
   "source": [
    "Suppose a customer service representative at a call center is handling customer complaints. Consider the following:\n",
    "- The probability of successfully resolving a customer complaint on the first attempt is 0.3. \n",
    "\n",
    "\n",
    "What is the probability that the representative needs to make at least three attempts before successfully resolving a customer complaint?"
   ]
  },
  {
   "cell_type": "code",
   "execution_count": 3,
   "metadata": {},
   "outputs": [
    {
     "name": "stdout",
     "output_type": "stream",
     "text": [
      "The probability to make at leat 3 attempts before successfully resolving customer complaint: 0.490\n"
     ]
    }
   ],
   "source": [
    "#Challenge 2\n",
    "from scipy.stats import geom\n",
    "\n",
    "#Given data\n",
    "p = 0.3\n",
    "geom_dist = geom(p)\n",
    "\n",
    "#Probability calculation P(X >= 3)\n",
    "probability_at_least=1-geom_dist.cdf(2)\n",
    "\n",
    "print(f\"The probability to make at leat 3 attempts before successfully resolving customer complaint: {probability_at_least:.3f}\")"
   ]
  },
  {
   "cell_type": "markdown",
   "metadata": {},
   "source": [
    "**Challenge 3**"
   ]
  },
  {
   "cell_type": "markdown",
   "metadata": {},
   "source": [
    "#### Ironhack Website"
   ]
  },
  {
   "cell_type": "markdown",
   "metadata": {},
   "source": [
    "Consider a scenario related to Ironhack website traffic. Where:\n",
    "- our website takes on average 500 visits per hour.\n",
    "- the website's server is designed to handle up to 550 vists per hour.\n",
    "\n",
    "\n",
    "What is the probability of the website server being overwhelmed?"
   ]
  },
  {
   "cell_type": "code",
   "execution_count": 4,
   "metadata": {},
   "outputs": [
    {
     "name": "stdout",
     "output_type": "stream",
     "text": [
      "The probability of the website server being overwhelmed is: 0.0129\n"
     ]
    }
   ],
   "source": [
    "#Challenge 3\n",
    "from scipy.stats import poisson\n",
    "\n",
    "# Given data\n",
    "lambda_visits = 500  # Average number of visits per hour\n",
    "server_capacity = 550  # Max visits it can handle per hour\n",
    "\n",
    "# Calculate the probability that the server will be overwhelmed P(X≤550)\n",
    "prob_overwhelmed = 1 - poisson.cdf(server_capacity, lambda_visits)\n",
    "\n",
    "# Print the result\n",
    "print(f\"The probability of the website server being overwhelmed is: {prob_overwhelmed:.4f}\")"
   ]
  },
  {
   "cell_type": "markdown",
   "metadata": {},
   "source": [
    "What is the probability of being overwhelmed at some point during a day? (consider 24hours)"
   ]
  },
  {
   "cell_type": "code",
   "execution_count": 8,
   "metadata": {},
   "outputs": [
    {
     "name": "stdout",
     "output_type": "stream",
     "text": [
      "Probability of being overwhelmed at least once in 24 hours: 0.2677\n"
     ]
    }
   ],
   "source": [
    "#Probability of being overwhelmed at some point during a day\n",
    "\n",
    "# Given data\n",
    "prob_overwhelmed_1h = prob_overwhelmed \n",
    "prob_not_overwhelmed_1h = 1 - prob_overwhelmed_1h  \n",
    "\n",
    "# Probability of not being overwhelmed in 24 hours\n",
    "prob_not_overwhelmed_24h = prob_not_overwhelmed_1h ** 24\n",
    "\n",
    "# Probability of being overwhelmed at least once in 24 hours\n",
    "prob_overwhelmed_24h = 1 - prob_not_overwhelmed_24h\n",
    "\n",
    "# Output the result\n",
    "print(f\"Probability of being overwhelmed at least once in 24 hours: {prob_overwhelmed_24h:.4f}\")\n"
   ]
  },
  {
   "cell_type": "markdown",
   "metadata": {},
   "source": [
    "**Challenge 4**"
   ]
  },
  {
   "cell_type": "markdown",
   "metadata": {},
   "source": [
    "#### Ironhack Helpdesk"
   ]
  },
  {
   "cell_type": "markdown",
   "metadata": {},
   "source": [
    "Consider a scenario related to the time between arrivals of customers at a service desk.\n",
    "\n",
    "On average, a customers arrives every 10minutes.\n",
    "\n",
    "What is the probability that the next customer will arrive within the next 5 minutes?"
   ]
  },
  {
   "cell_type": "code",
   "execution_count": 12,
   "metadata": {},
   "outputs": [
    {
     "name": "stdout",
     "output_type": "stream",
     "text": [
      "The probability that the next customer will arrive within 5 minutes is 0.3935\n"
     ]
    }
   ],
   "source": [
    "from scipy.stats import expon\n",
    "\n",
    "# Given data\n",
    "# Time in minutes\n",
    "avg_time = 10  \n",
    "lambda_value = 1 / avg_time  # Rate parameter (events per minute)\n",
    "\n",
    "# Create the exponential distribution\n",
    "lambda_inv = expon(scale = 1/lambda_value) \n",
    "\n",
    "# Calculate the cumulative probability for 5 minutes\n",
    "next_arrival_time= 5\n",
    "prob_within_5_min = lambda_inv.cdf(next_arrival_time)\n",
    "\n",
    "print(f\"The probability that the next customer will arrive within 5 minutes is {prob_within_5_min:.4f}\")\n",
    "\n"
   ]
  },
  {
   "cell_type": "markdown",
   "metadata": {},
   "source": [
    "If there is no customer for 15minutes, employees can that a 5minutes break.\n",
    "\n",
    "What is the probability an employee taking a break?"
   ]
  },
  {
   "cell_type": "code",
   "execution_count": 15,
   "metadata": {},
   "outputs": [
    {
     "name": "stdout",
     "output_type": "stream",
     "text": [
      "The probability that no arrivals for 15 minutes, so employee can take a break is 0.2231\n"
     ]
    }
   ],
   "source": [
    "# Calculate the probability of no arrivals for at least 15 minutes\n",
    "next_arrival_time= 15\n",
    "prob_no_customer_15min = 1 - lambda_inv.cdf(next_arrival_time)\n",
    "print(f\"The probability that no arrivals for 15 minutes, so employee can take a break is {prob_no_customer_15min:.4f}\")"
   ]
  },
  {
   "cell_type": "markdown",
   "metadata": {},
   "source": [
    "**Challenge 5**"
   ]
  },
  {
   "cell_type": "markdown",
   "metadata": {},
   "source": [
    "The weights of a certain species of birds follow a normal distribution with a mean weight of 150 grams and a standard deviation of 10 grams. \n",
    "\n",
    "- If we randomly select a bird, what is the probability that its weight is between 140 and 160 grams?"
   ]
  },
  {
   "cell_type": "code",
   "execution_count": 16,
   "metadata": {},
   "outputs": [
    {
     "name": "stdout",
     "output_type": "stream",
     "text": [
      "The probability that a randomly selected bird weighs between 140 and 160 grams is 0.6827\n"
     ]
    }
   ],
   "source": [
    "from scipy.stats import norm\n",
    "\n",
    "#Given data in grams\n",
    "mean = 150 \n",
    "std_dev = 10\n",
    "\n",
    "# Bounds in grams\n",
    "lower_bound = 140\n",
    "upper_bound = 160\n",
    "\n",
    "# Calculate cumulative probabilities\n",
    "prob_lower = norm.cdf(lower_bound, loc=mean, scale=std_dev)\n",
    "prob_upper = norm.cdf(upper_bound, loc=mean, scale=std_dev)\n",
    "\n",
    "# Probability between the bounds\n",
    "prob_between = prob_upper - prob_lower\n",
    "\n",
    "print(f\"The probability that a randomly selected bird weighs between 140 and 160 grams is {prob_between:.4f}\")\n"
   ]
  },
  {
   "cell_type": "markdown",
   "metadata": {},
   "source": [
    "**Challenge 6**"
   ]
  },
  {
   "cell_type": "markdown",
   "metadata": {},
   "source": [
    "If the lifetime (in hours) of a certain electronic component follows an exponential distribution with a mean lifetime of 50 hours, what is the probability that the component fails within the first 30 hours?"
   ]
  },
  {
   "cell_type": "code",
   "execution_count": 17,
   "metadata": {},
   "outputs": [
    {
     "name": "stdout",
     "output_type": "stream",
     "text": [
      "The probability that the component fails within the first 30 hours is 0.4512\n"
     ]
    }
   ],
   "source": [
    "from scipy.stats import expon\n",
    "\n",
    "# Given data in hours\n",
    "mean_lifetime = 50  \n",
    "rate = 1 / mean_lifetime  \n",
    "time_fail= 30  \n",
    "\n",
    "# Create the exponential distribution\n",
    "expon_dist = expon(scale = 1/rate)  # Scale is the mean lifetime\n",
    "\n",
    "# Calculate the cumulative probability for 30 hours\n",
    "prob_failure_within_30 = expon_dist.cdf(time_fail)\n",
    "\n",
    "print(f\"The probability that the component fails within the first 30 hours is {prob_failure_within_30:.4f}\")\n"
   ]
  }
 ],
 "metadata": {
  "kernelspec": {
   "display_name": "base",
   "language": "python",
   "name": "python3"
  },
  "language_info": {
   "codemirror_mode": {
    "name": "ipython",
    "version": 3
   },
   "file_extension": ".py",
   "mimetype": "text/x-python",
   "name": "python",
   "nbconvert_exporter": "python",
   "pygments_lexer": "ipython3",
   "version": "3.12.4"
  }
 },
 "nbformat": 4,
 "nbformat_minor": 2
}
